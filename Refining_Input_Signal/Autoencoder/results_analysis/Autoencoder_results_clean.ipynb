{
 "cells": [
  {
   "cell_type": "code",
   "execution_count": 2,
   "metadata": {},
   "outputs": [],
   "source": [
    "import numpy as np\n",
    "from scipy import stats\n"
   ]
  },
  {
   "cell_type": "code",
   "execution_count": 77,
   "metadata": {},
   "outputs": [],
   "source": [
    "def load_peaks(file_path):\n",
    "    \"\"\"\n",
    "    Loads the second column (peak positions) from a TSV file into a NumPy array.\n",
    "\n",
    "    Parameters:\n",
    "        file_path (str): Path to the TSV file.\n",
    "\n",
    "    Returns:\n",
    "        np.ndarray: Array of peak positions.\n",
    "    \"\"\"\n",
    "    return np.loadtxt(file_path, delimiter=\"\\t\", usecols=1)\n",
    "\n",
    "def split_into_bins(peaks, bin_size=25000, genome_length=None):\n",
    "    \"\"\"\n",
    "    Splits the peak positions into bins of the specified size using vectorized operations.\n",
    "    Ensures that empty bins are represented as arrays containing NaN.\n",
    "\n",
    "    Parameters:\n",
    "        peaks (np.ndarray): Array of peak positions.\n",
    "        bin_size (int): The size of each bin in base pairs.\n",
    "        genome_length (int): The length of the genome in base pairs. If None, inferred from peaks.\n",
    "\n",
    "    Returns:\n",
    "        list of np.ndarray: List of arrays, each containing peaks in one bin or NaN for empty bins.\n",
    "    \"\"\"\n",
    "    # Determine the total number of bins\n",
    "    if genome_length is None:\n",
    "        genome_length = peaks.max() + bin_size  # Extend to cover the last peak\n",
    "    num_bins = int((genome_length + bin_size - 1) // bin_size)  # Ceiling division\n",
    "\n",
    "    # Calculate the bin indices for each peak\n",
    "    bin_indices = np.floor_divide(peaks, bin_size)\n",
    "\n",
    "    # Create a list to hold peaks for each bin\n",
    "    binned_peaks = [np.array([np.nan]) for _ in range(num_bins)]  # Default to NaN for empty bins\n",
    "\n",
    "    # Assign peaks to the appropriate bins\n",
    "    for bin_idx in np.unique(bin_indices):\n",
    "        binned_peaks[int(bin_idx)] = peaks[bin_indices == bin_idx]\n",
    "\n",
    "    return binned_peaks\n",
    "\n",
    "def calculate_distance(peaks1, peaks2):\n",
    "    \"\"\"\n",
    "    Calculates the total distance between peaks1 and their nearest peaks in peaks2.\n",
    "\n",
    "    Parameters:\n",
    "        peaks1 (np.ndarray): Array of peak positions for sample 1.\n",
    "        peaks2 (np.ndarray): Array of peak positions for sample 2.\n",
    "\n",
    "    Returns:\n",
    "        float: Total distance or NaN if any input is empty.\n",
    "    \"\"\"\n",
    "    if np.isnan(peaks1).all() or np.isnan(peaks2).all():\n",
    "        return np.nan  # Return NaN if either bin is empty\n",
    "\n",
    "    distances = []\n",
    "    for peak1 in peaks1:\n",
    "        nearest_distance = np.min(np.abs(peak1 - peaks2))\n",
    "        distances.append(nearest_distance)\n",
    "\n",
    "    return np.median(distances)\n",
    "\n",
    "def process_peaks(file1, file2):\n",
    "    \"\"\"\n",
    "    Processes the TSV files from two directories, calculates the summed absolute distances between\n",
    "    corresponding peaks in 25,000 bp bins, and stores the results in a numpy array.\n",
    "\n",
    "    Parameters:\n",
    "        directory1 (str): Path to the directory containing the original peak files.\n",
    "        directory2 (str): Path to the directory containing the reconstructed peak files.\n",
    "\n",
    "    Returns:\n",
    "        np.ndarray: Array containing the summed distances for each bin.\n",
    "    \"\"\"\n",
    "    summed_distances = []\n",
    "    if True:\n",
    "\n",
    "            peaks1 = load_peaks(file1)\n",
    "            peaks2 = load_peaks(file2)\n",
    "\n",
    "            # Split the peaks into bins\n",
    "            bins1 = split_into_bins(peaks1)\n",
    "            bins2 = split_into_bins(peaks2)\n",
    "\n",
    "            for bin_peaks1, bin_peaks2 in zip(bins1, bins2):\n",
    "                distance = calculate_distance(bin_peaks1, bin_peaks2)\n",
    "                summed_distances.append(distance)\n",
    "\n",
    "    return np.array(summed_distances)\n"
   ]
  },
  {
   "cell_type": "code",
   "execution_count": 31,
   "metadata": {},
   "outputs": [],
   "source": [
    "def remove_nan_pairs(array1, array2):\n",
    "    \"\"\"\n",
    "    Removes elements from both arrays where either array contains NaN.\n",
    "\n",
    "    Parameters:\n",
    "        array1 (np.ndarray): The first array.\n",
    "        array2 (np.ndarray): The second array.\n",
    "\n",
    "    Returns:\n",
    "        tuple: Two arrays with NaN-containing elements removed.\n",
    "    \"\"\"\n",
    "    if array1.shape != array2.shape:\n",
    "        raise ValueError(\"Both arrays must have the same shape.\")\n",
    "    \n",
    "    # Create a mask for non-NaN values in both arrays\n",
    "#     valid_mask = ~np.isnan(array1) & ~np.isnan(array2)\n",
    "    valid_mask = ~np.isnan(array1) * ~np.isnan(array2)\n",
    "\n",
    "    \n",
    "    # Apply the mask to both arrays\n",
    "    return array1[valid_mask], array2[valid_mask]\n"
   ]
  },
  {
   "cell_type": "code",
   "execution_count": 78,
   "metadata": {},
   "outputs": [],
   "source": [
    "real_BH01 = '/cluster/work/medinfmk/cfDNA-Snyder/results/Maria/testing_model/third_try/real/MaxFinder_output_truth.tsv'\n",
    "predicted_BH01 = '/cluster/work/medinfmk/cfDNA-Snyder/results/Maria/testing_model/third_try/reconstructed/MaxFinder_output_predictions.tsv'\n",
    "reconstructed = process_peaks(predicted_BH01, real_BH01)"
   ]
  },
  {
   "cell_type": "code",
   "execution_count": 79,
   "metadata": {},
   "outputs": [],
   "source": [
    "downsampled_BH01 = '/cluster/work/medinfmk/cfDNA-Snyder/results/Maria/testing_model/third_try/downsampled/MaxFinder_output_downsampled.tsv'\n",
    "downsampled = process_peaks(downsampled_BH01, real_BH01)"
   ]
  },
  {
   "cell_type": "code",
   "execution_count": 80,
   "metadata": {},
   "outputs": [],
   "source": [
    "downsampled_filtered, reconstructed_filtered = remove_nan_pairs(downsampled,reconstructed)"
   ]
  },
  {
   "cell_type": "code",
   "execution_count": 102,
   "metadata": {},
   "outputs": [
    {
     "data": {
      "image/png": "[encoded data removed]",
      "text/plain": [
       "<Figure size 432x432 with 1 Axes>"
      ]
     },
     "metadata": {
      "needs_background": "light"
     },
     "output_type": "display_data"
    }
   ],
   "source": [
    "import matplotlib.pyplot as plt\n",
    "from matplotlib import font_manager\n",
    "\n",
    "# Load the custom font (Computer Modern Roman)\n",
    "font_path = '/cluster/work/medinfmk/cfDNA-Snyder/results/Maria/cmr10.ttf'  # Replace with the correct path to the font file\n",
    "prop = font_manager.FontProperties(fname=font_path)\n",
    "\n",
    "# Update the font settings to use the custom font\n",
    "plt.rcParams.update({\n",
    "    \"text.usetex\": False,  # Disable LaTeX rendering\n",
    "    \"font.family\": prop.get_name(),  # Use the custom font\n",
    "    \"axes.unicode_minus\": True,  # Handle minus sign properly\n",
    "})\n",
    "# Creating a box plot with color and median customizations\n",
    "undersampled_data = [downsampled_filtered]  # Undersampled data\n",
    "reconstructed_data = [reconstructed_filtered]  # Reconstructed data\n",
    "data = reconstructed_data+undersampled_data \n",
    "\n",
    "plt.figure(figsize=(6, 6))\n",
    "\n",
    "bp = plt.boxplot(data, patch_artist=True, widths=0.6, positions=[1, 2], labels=[ 'Reconstructed','Undersampled (5x)'],showfliers=False)\n",
    "\n",
    "# Set colors for the boxes\n",
    "box_colors = ['#ff796c','#ff796c']  # Red for undersampled, green for reconstructed\n",
    "alpha_values = [0.5,1.0]\n",
    "\n",
    "for patch, color, alpha in zip(bp['boxes'], box_colors, alpha_values):\n",
    "    patch.set_facecolor(color)\n",
    "    patch.set_alpha(alpha)\n",
    "\n",
    "# Define median properties\n",
    "median_color = 'black'\n",
    "median_linewidth = 2  # Set the desired width of the median line\n",
    "for median in bp['medians']:\n",
    "    median.set(color=median_color, linewidth=median_linewidth)\n",
    "\n",
    "# plt.xlabel('Data Type', fontsize=15)\n",
    "plt.ylabel('Peak Position Difference to Original', fontsize=20, labelpad = 15)\n",
    "# plt.ylim(-2000, 30000)\n",
    "# plt.axhline(y=6500, color='blue', linestyle='--', linewidth=1, label='Random')\n",
    "plt.grid(True, which='both', linestyle='--', linewidth=0.5, color='gray', alpha=0.2)\n",
    "\n",
    "ax = plt.gca()  # Get current axis\n",
    "\n",
    "ax.spines['top'].set_visible(False)  # Hide the top spine\n",
    "ax.spines['right'].set_visible(False)  # Hide the right spine\n",
    "ax.spines['left'].set_linewidth(0.5)  # Customize the left spine\n",
    "ax.spines['bottom'].set_linewidth(0.5)  # Customize the bottom spine\n",
    "plt.xticks( fontsize=20)\n",
    "plt.yticks(fontsize=18)\n",
    "# Display the plot with medians\n",
    "plt.savefig('/cluster/work/medinfmk/cfDNA-Snyder/results/Maria/figures/boxplots_undersampledVSreconstructed.svg', format='svg')\n",
    "plt.show()\n"
   ]
  },
  {
   "cell_type": "code",
   "execution_count": 90,
   "metadata": {},
   "outputs": [
    {
     "name": "stdout",
     "output_type": "stream",
     "text": [
      "Statistic: 1178.0\n",
      "P-value: 8.786575668864966e-58\n",
      "The distributions of the two paired samples are significantly different.\n"
     ]
    }
   ],
   "source": [
    "stat, p_value = stats.wilcoxon(reconstructed_filtered, downsampled_filtered)\n",
    "\n",
    "# Display results\n",
    "print(f\"Statistic: {stat}\")\n",
    "print(f\"P-value: {p_value}\")\n",
    "\n",
    "# Interpretation\n",
    "if p_value < 0.05:\n",
    "    print(\"The distributions of the two paired samples are significantly different.\")\n",
    "else:\n",
    "    print(\"No significant difference was found between the two paired samples.\")"
   ]
  }
 ],
 "metadata": {
  "kernelspec": {
   "display_name": "Python 3",
   "language": "python",
   "name": "python3"
  },
  "language_info": {
   "codemirror_mode": {
    "name": "ipython",
    "version": 3
   },
   "file_extension": ".py",
   "mimetype": "text/x-python",
   "name": "python",
   "nbconvert_exporter": "python",
   "pygments_lexer": "ipython3",
   "version": "3.7.3"
  }
 },
 "nbformat": 4,
 "nbformat_minor": 2
}
